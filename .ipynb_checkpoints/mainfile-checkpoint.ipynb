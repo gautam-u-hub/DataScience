{
 "cells": [
  {
   "cell_type": "code",
   "execution_count": null,
   "id": "e2f6e672",
   "metadata": {},
   "outputs": [],
   "source": [
    "beni=pd.read_csv('C:/Users/ashut/OneDrive/Desktop/Data Science/Health Claims/Train_Beneficiarydata-1542865627584.csv')\n",
    "inpai=pd.read_csv('C:/Users/ashut/OneDrive/Desktop/Data Science/Health Claims/Train_Inpatientdata-1542865627584.csv')\n",
    "outpai=pd.read_csv('C:/Users/ashut/OneDrive/Desktop/Data Science/Health Claims/Train_Outpatientdata-1542865627584.csv')\n",
    "fraud=pd.read_csv('C:/Users/ashut/OneDrive/Desktop/Data Science/Health Claims/Train-1542865627584.csv')"
   ]
  },
  {
   "cell_type": "code",
   "execution_count": null,
   "id": "d0266bfe",
   "metadata": {},
   "outputs": [],
   "source": [
    "columns_to_drop=['AdmissionDt','DischargeDt','DiagnosisGroupCode']\n",
    "newinpai=inpai.drop(columns=columns_to_drop)"
   ]
  },
  {
   "cell_type": "code",
   "execution_count": null,
   "id": "f792faae",
   "metadata": {},
   "outputs": [],
   "source": [
    "newInOutPai=pd.concat([newinpai,outpai],axis=0)"
   ]
  },
  {
   "cell_type": "code",
   "execution_count": null,
   "id": "7933301a",
   "metadata": {},
   "outputs": [],
   "source": [
    "newInOutPaiWithFraud=pd.merge(newInOutPai,fraud,on='Provider',how='left')\n",
    "newInOutPaiWithFraud.info()"
   ]
  },
  {
   "cell_type": "code",
   "execution_count": null,
   "id": "57c0fb80",
   "metadata": {},
   "outputs": [],
   "source": [
    "dfN=pd.merge(beni,newInOutPaiWithFraud,on='BeneID',how='left')\n",
    "dfN.info()"
   ]
  },
  {
   "cell_type": "code",
   "execution_count": null,
   "id": "4388897e",
   "metadata": {},
   "outputs": [],
   "source": [
    "import pandas as pd\n",
    "from sklearn.pipeline import Pipeline\n",
    "from sklearn.impute import SimpleImputer\n",
    "from sklearn.preprocessing import OneHotEncoder, StandardScaler\n",
    "from sklearn.compose import ColumnTransformer\n",
    "from sklearn.ensemble import RandomForestRegressor\n",
    "from sklearn.model_selection import train_test_split\n",
    "from sklearn.metrics import mean_squared_error\n",
    "import xgboost as xgb\n",
    "import pickle\n",
    "\n",
    "# Assuming dfN is your original DataFrame\n",
    "df8 = dfN.dropna(thresh=len(dfN) * 0.5, axis=1)  # Drop columns with null values > 50%\n",
    "\n",
    "# Separate features and target variable\n",
    "X = df8.drop(columns=['InscClaimAmtReimbursed','Provider'])\n",
    "y = df8['InscClaimAmtReimbursed']\n",
    "\n",
    "# Define preprocessing steps for numerical and categorical columns\n",
    "numerical_transformer = Pipeline(steps=[\n",
    "    ('imputer', SimpleImputer(strategy='most_frequent')), # Impute missing values with most frequent value\n",
    "    ('scaler', StandardScaler())\n",
    "])\n",
    "\n",
    "categorical_transformer = Pipeline(steps=[\n",
    "    ('imputer', SimpleImputer(strategy='most_frequent')), # Impute missing values with most frequent value\n",
    "    ('onehot', OneHotEncoder(handle_unknown='ignore')) # Convert categorical variables into one-hot encoded vectors\n",
    "])\n",
    "\n",
    "# Combine preprocessing steps for numerical and categorical columns using ColumnTransformer\n",
    "preprocessor = ColumnTransformer(\n",
    "    transformers=[\n",
    "        ('num', numerical_transformer, X.select_dtypes(include=['int', 'float']).columns),\n",
    "        ('cat', categorical_transformer, X.select_dtypes(include=['object']).columns)\n",
    "    ])\n",
    "\n",
    "# Preprocess the data\n",
    "X_preprocessed = preprocessor.fit_transform(X)\n",
    "\n",
    "# Split the preprocessed data into training and testing sets\n",
    "X_train, X_test, y_train, y_test = train_test_split(X_preprocessed, y, test_size=0.2, random_state=42)\n",
    "\n",
    "# Define the model\n",
    "model = xgb.XGBRegressor(n_estimators=100, max_depth=5, learning_rate=0.1, random_state=42)\n",
    "\n",
    "# Train the model\n",
    "model.fit(X_train, y_train)\n",
    "\n",
    "# Evaluate the model\n",
    "y_pred = model.predict(X_test)\n",
    "mse = mean_squared_error(y_test, y_pred)\n",
    "print(\"MSE:\", mse)\n",
    "print(\"RMSE:\", np.sqrt(mse))\n",
    "\n",
    "\n"
   ]
  },
  {
   "cell_type": "code",
   "execution_count": null,
   "id": "5622ca6f",
   "metadata": {},
   "outputs": [],
   "source": [
    "from sklearn.metrics import r2_score\n",
    "import numpy as np\n",
    "\n",
    "# Calculate R^2 score\n",
    "r2 = r2_score(y_test, y_pred)\n",
    "print(\"R^2 Score:\", r2)\n",
    "\n",
    "# Calculate Adjusted R^2 score\n",
    "n = X_test.shape[0]  # Number of samples\n",
    "p = X_test.shape[1]  # Number of features\n",
    "adjusted_r2 = 1 - (1 - r2) * (n - 1) / (n - p - 1)\n",
    "print(\"Adjusted R^2 Score:\", adjusted_r2)\n"
   ]
  },
  {
   "cell_type": "code",
   "execution_count": null,
   "id": "7bb01a8d",
   "metadata": {},
   "outputs": [],
   "source": [
    "from joblib import dump\n",
    "dump(preprocessor, 'C:/Users/ashut/OneDrive/Desktop/Data Science/Health Claims/healthcare_preprocessor.joblib')\n",
    "from joblib import load"
   ]
  },
  {
   "cell_type": "code",
   "execution_count": null,
   "id": "aed03745",
   "metadata": {},
   "outputs": [],
   "source": [
    "with open('C:/Users/ashut/OneDrive/Desktop/Data Science/Health Claims/RfPickelModelx1.pkl', 'wb') as model_file:\n",
    "    pickle.dump(model, model_file)"
   ]
  },
  {
   "cell_type": "code",
   "execution_count": null,
   "id": "c12ce67f",
   "metadata": {},
   "outputs": [],
   "source": [
    "import pandas as pd\n",
    "import pickle\n",
    "\n",
    "# Load the saved model\n",
    "model_filename = 'C:/Users/ashut/OneDrive/Desktop/Data Science/Health Claims/RfPickelModelx1.pkl'\n",
    "with open(model_filename, 'rb') as model_file:\n",
    "    loaded_model = pickle.load(model_file)\n",
    "\n",
    "# Assume df7 is your DataFrame containing the data\n",
    "first_row = df7.iloc[[0]]  # Get the first row of df7\n",
    "# You may need to preprocess this row before making predictions\n",
    "# Assuming preprocessor is already defined\n",
    "\n",
    "# Preprocess the first row\n",
    "X_first_row_preprocessed = preprocessor.transform(first_row)\n",
    "\n",
    "# Predict the value\n",
    "predicted_value = loaded_model.predict(X_first_row_preprocessed)\n",
    "\n",
    "# Get the actual value\n",
    "actual_value = df7.iloc[0]['InscClaimAmtReimbursed']\n",
    "\n",
    "print(\"Predicted Value:\", predicted_value)\n",
    "print(\"Actual Value:\", actual_value)"
   ]
  },
  {
   "cell_type": "code",
   "execution_count": null,
   "id": "244076f8",
   "metadata": {},
   "outputs": [],
   "source": [
    "import pandas as pd\n",
    "\n",
    "# Load your dataset\n",
    "data = dfN\n",
    "\n",
    "# Calculate the mode for each column\n",
    "modes = data.mode()\n",
    "\n",
    "# Create a dictionary to store the modes\n",
    "modes_dict = {}\n",
    "\n",
    "# Iterate through columns to extract modes\n",
    "for col in modes.columns:\n",
    "    mode_val = modes[col][0]  # Get the mode value for the column\n",
    "    modes_dict[col] = [mode_val]  # Store the mode value in a dictionary\n",
    "\n",
    "# Create a DataFrame from the dictionary\n",
    "modes_df = pd.DataFrame(modes_dict)\n",
    "\n",
    "# Save the modes to a new CSV file\n",
    "modes_df.to_csv('C:/Users/ashut/OneDrive/Desktop/Data Science/Health Claims/newmode1.csv', index=False)\n",
    "\n",
    "print(\"Modes of each column have been saved to 'column_modes.csv' file.\")"
   ]
  },
  {
   "cell_type": "code",
   "execution_count": null,
   "id": "67712747",
   "metadata": {},
   "outputs": [],
   "source": [
    "import pandas as pd\n",
    "\n",
    "# Load your dataset\n",
    "df0=dfN\n",
    "\n",
    "# Print the columns before dropping\n",
    "print(\"Columns before dropping:\")\n",
    "print(df0.columns)\n",
    "\n",
    "# Drop columns with more than 50% missing values\n",
    "dropped_columns = df0.columns[df0.isnull().mean() > 0.5]\n",
    "\n",
    "\n",
    "# Print the columns after dropping\n",
    "\n",
    "\n",
    "# Print the columns that were dropped\n",
    "print(\"\\nColumns dropped:\")\n",
    "print(dropped_columns)"
   ]
  }
 ],
 "metadata": {
  "kernelspec": {
   "display_name": "Python 3 (ipykernel)",
   "language": "python",
   "name": "python3"
  },
  "language_info": {
   "codemirror_mode": {
    "name": "ipython",
    "version": 3
   },
   "file_extension": ".py",
   "mimetype": "text/x-python",
   "name": "python",
   "nbconvert_exporter": "python",
   "pygments_lexer": "ipython3",
   "version": "3.11.5"
  }
 },
 "nbformat": 4,
 "nbformat_minor": 5
}
