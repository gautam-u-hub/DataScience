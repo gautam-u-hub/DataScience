{
 "cells": [
  {
   "cell_type": "code",
   "execution_count": null,
   "id": "deeb3b10-0de4-4470-b29c-fabf0c16095a",
   "metadata": {},
   "outputs": [
    {
     "name": "stdout",
     "output_type": "stream",
     "text": [
      " * Serving Flask app '__main__'\n",
      " * Debug mode: off\n"
     ]
    },
    {
     "name": "stderr",
     "output_type": "stream",
     "text": [
      "WARNING: This is a development server. Do not use it in a production deployment. Use a production WSGI server instead.\n",
      " * Running on http://127.0.0.1:5000\n",
      "Press CTRL+C to quit\n",
      "127.0.0.1 - - [01/May/2024 08:38:26] \"POST /predict HTTP/1.1\" 200 -\n"
     ]
    }
   ],
   "source": [
    "from flask import Flask, request, jsonify\n",
    "import pandas as pd\n",
    "import pickle\n",
    "from joblib import load\n",
    "\n",
    "app = Flask(__name__)\n",
    "\n",
    "default_values_df = pd.read_csv('./newmode1.csv')\n",
    "\n",
    "def preprocess_user_inputs(user_inputs_df):\n",
    "    col_to_drop=['DOD', 'OperatingPhysician', 'OtherPhysician', 'ClmAdmitDiagnosisCode',\n",
    "           'ClmDiagnosisCode_3', 'ClmDiagnosisCode_4', 'ClmDiagnosisCode_5',\n",
    "           'ClmDiagnosisCode_6', 'ClmDiagnosisCode_7', 'ClmDiagnosisCode_8',\n",
    "           'ClmDiagnosisCode_9', 'ClmDiagnosisCode_10', 'ClmProcedureCode_1',\n",
    "           'ClmProcedureCode_2', 'ClmProcedureCode_3', 'ClmProcedureCode_4',\n",
    "           'ClmProcedureCode_5', 'ClmProcedureCode_6','InscClaimAmtReimbursed']\n",
    "    user_inputs_df.drop(columns=col_to_drop, axis=1, inplace=True)\n",
    "\n",
    "    loaded_preprocessor = load('healthcare_preprocessor.joblib')\n",
    "\n",
    "    user_inputs_preprocessed = loaded_preprocessor.transform(user_inputs_df)\n",
    "    return user_inputs_preprocessed\n",
    "\n",
    "def load_model():\n",
    "    with open('./HealthClaims/xgboost_model.pkl', 'rb') as file:\n",
    "        model = pickle.load(file)\n",
    "    return model\n",
    "\n",
    "@app.route('/predict', methods=['POST'])\n",
    "def predict():\n",
    "    content = request.get_json()\n",
    "    input_data = pd.DataFrame([content])  \n",
    "    \n",
    "    user_inputs_preprocessed = preprocess_user_inputs(input_data)\n",
    "    \n",
    "    model = load_model()\n",
    "    \n",
    "    predictions = model.predict(user_inputs_preprocessed)\n",
    "    \n",
    "    return jsonify({'prediction': predictions.tolist()})\n",
    "\n",
    "\n",
    "if __name__ == '__main__':\n",
    "    app.run(debug=False)\n"
   ]
  },
  {
   "cell_type": "code",
   "execution_count": null,
   "id": "1c9b8d77-456e-41cc-b943-221099d0e8e6",
   "metadata": {},
   "outputs": [],
   "source": []
  }
 ],
 "metadata": {
  "kernelspec": {
   "display_name": "Python 3 (ipykernel)",
   "language": "python",
   "name": "python3"
  },
  "language_info": {
   "codemirror_mode": {
    "name": "ipython",
    "version": 3
   },
   "file_extension": ".py",
   "mimetype": "text/x-python",
   "name": "python",
   "nbconvert_exporter": "python",
   "pygments_lexer": "ipython3",
   "version": "3.11.7"
  }
 },
 "nbformat": 4,
 "nbformat_minor": 5
}
